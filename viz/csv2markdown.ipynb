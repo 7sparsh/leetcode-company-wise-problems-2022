{
 "cells": [
  {
   "cell_type": "code",
   "execution_count": 18,
   "id": "3f7a245f",
   "metadata": {},
   "outputs": [],
   "source": [
    "import pandas as pd\n",
    "import os\n",
    "import os.path as osp"
   ]
  },
  {
   "cell_type": "code",
   "execution_count": 49,
   "id": "7d3ff449",
   "metadata": {},
   "outputs": [],
   "source": [
    "markdown = ''\n",
    "\n",
    "companies_dir = '../companies'\n",
    "for fname in os.listdir(companies_dir):\n",
    "    fpath = osp.join(companies_dir, fname)\n",
    "    company_name = fname.split('.')[0]\n",
    "    df = pd.read_csv(fpath)\n",
    "    # merge problem_link and problem_name as a markdown link\n",
    "    problems = []\n",
    "    for _, row in df.iterrows():\n",
    "        problem = f\"[{row['problem_name']}]({row['problem_link']})\"\n",
    "        problems.append(problem)\n",
    "    df['problem'] = problems\n",
    "    df = df.drop(['problem_link', 'problem_name'], axis = 1)\n",
    "    # filter numeric rows\n",
    "    df = df[pd.to_numeric(df.num_occur, errors='coerce').notnull()]\n",
    "    df['num_occur'] = df['num_occur'].apply(pd.to_numeric, errors='coerce')\n",
    "    # sort by occurances\n",
    "    df = df.sort_values(by ='num_occur', ascending=False)\n",
    "    # filter rows to have >= 3 occurances\n",
    "    df = df.query('num_occur >= 3')\n",
    "    if len(df.index) > 5:\n",
    "        markdown += f'\\n\\n## {company_name}\\n'\n",
    "        markdown += df.to_markdown(index=False)\n",
    "\n",
    "with open('README.md', 'w') as f:\n",
    "    f.write(markdown)"
   ]
  },
  {
   "cell_type": "code",
   "execution_count": 47,
   "id": "92665182",
   "metadata": {},
   "outputs": [
    {
     "name": "stdout",
     "output_type": "stream",
     "text": [
      "5\n",
      "3\n",
      "3\n"
     ]
    }
   ],
   "source": [
    "for occur in df[pd.to_numeric(df.num_occur, errors='coerce').notnull()].num_occur:\n",
    "    print(occur)"
   ]
  },
  {
   "cell_type": "code",
   "execution_count": null,
   "id": "67231cf7",
   "metadata": {},
   "outputs": [],
   "source": []
  }
 ],
 "metadata": {
  "kernelspec": {
   "display_name": "Python [conda env:cs320]",
   "language": "python",
   "name": "conda-env-cs320-py"
  },
  "language_info": {
   "codemirror_mode": {
    "name": "ipython",
    "version": 3
   },
   "file_extension": ".py",
   "mimetype": "text/x-python",
   "name": "python",
   "nbconvert_exporter": "python",
   "pygments_lexer": "ipython3",
   "version": "3.9.7"
  }
 },
 "nbformat": 4,
 "nbformat_minor": 5
}
