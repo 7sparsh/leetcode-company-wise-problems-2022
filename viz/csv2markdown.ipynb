{
 "cells": [
  {
   "cell_type": "code",
   "execution_count": 18,
   "id": "28a7a3b5",
   "metadata": {},
   "outputs": [],
   "source": [
    "import pandas as pd\n",
    "import os\n",
    "import os.path as osp"
   ]
  },
  {
   "cell_type": "code",
   "execution_count": 24,
   "id": "0dd8201d",
   "metadata": {},
   "outputs": [
    {
     "name": "stdout",
     "output_type": "stream",
     "text": [
      "ServiceNow\n",
      "Twilio\n",
      "Infosys\n",
      "Karat\n",
      "Airbnb\n",
      "Cruise Automation\n",
      "Wayfair\n",
      "Paypal\n",
      "tiktok\n",
      "Affirm\n",
      "Yandex\n",
      "Amazon\n",
      "Facebook\n",
      "Shopee\n",
      "Google\n",
      "Oracle\n",
      "Quora\n",
      "Capital One\n",
      "HRT\n",
      "Flipkart\n",
      "Bloomberg\n",
      "Spotify\n",
      "Pinterest\n",
      "DoorDash\n",
      "Salesforce\n",
      "Apple\n",
      "Uber\n",
      "Rubrik\n",
      "Samsung\n",
      "JPMorgan\n",
      "Tesla\n",
      "tcs\n",
      "LinkedIn\n",
      "Yahoo\n",
      "Walmart Global Tech\n",
      "Expedia\n",
      "eBay\n",
      "IBM\n",
      "Twitter\n",
      "Goldman Sachs\n",
      "Mathworks\n",
      "VMware\n",
      "Visa\n",
      "Intuit\n",
      "Nvidia\n",
      "Atlassian\n",
      "Snapchat\n",
      "Indeed\n",
      "Lyft\n",
      "Microsoft\n",
      "Docusign\n",
      "Citadel\n",
      "SAP\n",
      "ByteDance\n",
      "Qualtrics\n",
      "Square\n",
      "Cisco\n",
      "Morgan Stanley\n",
      "Booking\n",
      "Grab\n",
      "Adobe\n",
      "Dropbox\n"
     ]
    }
   ],
   "source": [
    "markdown = ''\n",
    "\n",
    "companies_dir = '../companies'\n",
    "for fname in os.listdir(companies_dir):\n",
    "    fpath = osp.join(companies_dir, fname)\n",
    "    company_name = fname.split('.')[0]\n",
    "    df = pd.read_csv(fpath)\n",
    "    if len(df.index) > 5:\n",
    "        markdown += f'\\n## {company_name}'\n",
    "        #df.to_markdown(tablefmt=\"grid\", index=False)"
   ]
  },
  {
   "cell_type": "code",
   "execution_count": null,
   "id": "8c071060",
   "metadata": {},
   "outputs": [],
   "source": []
  }
 ],
 "metadata": {
  "kernelspec": {
   "display_name": "Python [conda env:cs320]",
   "language": "python",
   "name": "conda-env-cs320-py"
  },
  "language_info": {
   "codemirror_mode": {
    "name": "ipython",
    "version": 3
   },
   "file_extension": ".py",
   "mimetype": "text/x-python",
   "name": "python",
   "nbconvert_exporter": "python",
   "pygments_lexer": "ipython3",
   "version": "3.9.7"
  }
 },
 "nbformat": 4,
 "nbformat_minor": 5
}
