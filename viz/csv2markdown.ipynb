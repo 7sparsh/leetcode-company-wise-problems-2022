{
 "cells": [
  {
   "cell_type": "code",
   "execution_count": 18,
   "id": "1ec20db2",
   "metadata": {},
   "outputs": [],
   "source": [
    "import pandas as pd\n",
    "import os\n",
    "import os.path as osp"
   ]
  },
  {
   "cell_type": "code",
   "execution_count": 102,
   "id": "bb387c59",
   "metadata": {},
   "outputs": [],
   "source": [
    "markdown = '## Leetcode Company-wise Problem Lists\\\n",
    "\\n\\nCurated lists of Leetcode questions group by companies, updated as of May, 2022.\\\n",
    "\\n\\nShout out to fishercoder1534 for the awesome [Leetcode](https://github.com/fishercoder1534/Leetcode) repo for solutions.'\n",
    "\n",
    "leetcode_problems = pd.read_csv('../data/leetcode_problems.csv')  # provides solutions and difficulty levels\n",
    "\n",
    "# add index\n",
    "companies_dir = '../companies'\n",
    "companies_files = sorted(os.listdir(companies_dir))\n",
    "companies_names = [fname.split('.')[0] for fname in companies_files]\n",
    "markdown += '\\n\\n## Index\\n'\n",
    "for i, company_name in enumerate(companies_names):\n",
    "    markdown += f'{i+1}. [{company_name}](#{company_name})\\n'\n",
    "    \n",
    "for fname in companies_files:\n",
    "    fpath = osp.join(companies_dir, fname)\n",
    "    company_name = fname.split('.')[0]\n",
    "    df = pd.read_csv(fpath)\n",
    "    # merge problem_link and problem_name as a markdown link\n",
    "    problems = []\n",
    "    for _, row in df.iterrows():\n",
    "        problem = f\"[{row['problem_name']}]({row['problem_link']})\"\n",
    "        problems.append(problem)\n",
    "    df['problem'] = problems\n",
    "    # add difficulty and solutions\n",
    "    df = pd.merge(df, leetcode_problems, left_on='problem_link', right_on='link')\n",
    "    # drop unnecessary columns\n",
    "    df = df.drop(['problem_link', 'problem_name', 'name', 'link'], axis = 1)\n",
    "    # filter numeric rows\n",
    "    df = df[pd.to_numeric(df.num_occur, errors='coerce').notnull()]\n",
    "    df['num_occur'] = df['num_occur'].apply(pd.to_numeric, errors='coerce')\n",
    "    # sort by occurances\n",
    "    df = df.sort_values(by ='num_occur', ascending=False)\n",
    "    # filter rows to have >= 3 occurances\n",
    "    df = df.query('num_occur >= 3')\n",
    "    # change column name\n",
    "    df.columns = ['Occurence', 'Problem', 'Difficulty', 'Solution']\n",
    "    markdown += f'\\n\\n## {company_name}\\n'\n",
    "    markdown += df.to_markdown(index=False)\n",
    "\n",
    "with open('README.md', 'w') as f:\n",
    "    f.write(markdown)"
   ]
  },
  {
   "cell_type": "code",
   "execution_count": null,
   "id": "88dac4ab",
   "metadata": {},
   "outputs": [],
   "source": []
  }
 ],
 "metadata": {
  "kernelspec": {
   "display_name": "Python [conda env:cs320]",
   "language": "python",
   "name": "conda-env-cs320-py"
  },
  "language_info": {
   "codemirror_mode": {
    "name": "ipython",
    "version": 3
   },
   "file_extension": ".py",
   "mimetype": "text/x-python",
   "name": "python",
   "nbconvert_exporter": "python",
   "pygments_lexer": "ipython3",
   "version": "3.9.7"
  }
 },
 "nbformat": 4,
 "nbformat_minor": 5
}
