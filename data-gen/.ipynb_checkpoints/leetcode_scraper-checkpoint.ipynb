{
 "cells": [
  {
   "cell_type": "code",
   "execution_count": 1,
   "id": "7123aa0a",
   "metadata": {},
   "outputs": [],
   "source": [
    "from selenium import webdriver\n",
    "from selenium.webdriver.chrome.options import Options\n",
    "from selenium.common.exceptions import NoSuchElementException\n",
    "from tqdm import tqdm\n",
    "import time\n",
    "import pandas as pd"
   ]
  },
  {
   "cell_type": "code",
   "execution_count": 15,
   "id": "84d26991",
   "metadata": {},
   "outputs": [],
   "source": [
    "options = Options()\n",
    "options.headless = True\n",
    "driver = webdriver.Chrome(options=options)\n",
    "driver.set_window_size(1920, 1080)\n",
    "driver.maximize_window()"
   ]
  },
  {
   "cell_type": "code",
   "execution_count": 23,
   "id": "7e94b4f3",
   "metadata": {},
   "outputs": [],
   "source": [
    "# click helper, wait until page source changed\n",
    "def click(button, timeout=3):\n",
    "        prev_src = driver.page_source\n",
    "        elapsed = 0\n",
    "        unit_time = timeout / 10\n",
    "        button.click()\n",
    "        while prev_src == driver.page_source and elapsed <= timeout:\n",
    "            time.sleep(unit_time)\n",
    "            timeout -= unit_time\n",
    "            elapsed += unit_time\n",
    "            \n",
    "# login to leetcode\n",
    "def login(username, password):\n",
    "    login_url = 'https://leetcode.com/accounts/login/'\n",
    "    driver.get(login_url)\n",
    "    time.sleep(2)\n",
    "    username_field = driver.find_element_by_xpath('//input[@id=\"id_login\"]')\n",
    "    password_field = driver.find_element_by_xpath('//input[@id=\"id_password\"]')\n",
    "    signin_button = driver.find_element_by_xpath('//button[@id=\"signin_btn\"]')\n",
    "    username_field.send_keys(username)\n",
    "    password_field.send_keys(password)\n",
    "    click(signin_button)\n",
    "    print('successfully logged in!') \n",
    "\n",
    "# get company info from a problem URL\n",
    "def get_problem_companies_info(problem_url, debug=False):\n",
    "    companies_info = dict()  # key: company name, value: number of occurances\n",
    "    driver.get(problem_url)\n",
    "    time.sleep(2)\n",
    "    # locate and click on the 'Companies' <div>\n",
    "    try:\n",
    "        companies_div = driver.find_element_by_xpath(\"//div[text()='Companies']\")\n",
    "        click(companies_div)\n",
    "    except NoSuchElementException as e:\n",
    "        print('company not found')\n",
    "        return companies_info\n",
    "    # if there exists a 'More' <span>, click on it to show all companies\n",
    "    try:\n",
    "        show_more_span = driver.find_element_by_xpath(\"//span[text()='More']\")\n",
    "        click(show_more_span)\n",
    "    except NoSuchElementException as e:\n",
    "        pass\n",
    "    # locate the <div> that leetcode places all its little \"company tags\"\n",
    "    company_tag_wrapper = driver.find_element_by_xpath(\"//div[starts-with(@class, 'company-tag-wrapper')]\")\n",
    "    companies_info_raw = company_tag_wrapper.text.replace('\\n|\\n', '|').split('\\n')\n",
    "    if debug: print(companies_info_raw)\n",
    "    for company in companies_info_raw:\n",
    "        company_info = company.split('|')\n",
    "        if len(company_info) == 1 and \n",
    "        company_name = company_info[0]\n",
    "        num_occur = company_info[1]\n",
    "        companies_info[company_name] = num_occur\n",
    "    return companies_info\n",
    "\n",
    "# iterate through leetcode_problems to collect their company info\n",
    "def get_problems_companies_info(leetcode_problems, debug=False):\n",
    "    problems_companies_info = []  # list of tuples\n",
    "    for _, problem in leetcode_problems.iterrows():\n",
    "        problem_link = problem['link']\n",
    "        problem_name = problem['name']\n",
    "        print('handling', problem_link)\n",
    "        try:\n",
    "            companies_info = get_problem_companies_info(problem_link, debug)\n",
    "            # pivot longer\n",
    "            for company_name, num_occur in companies_info.items():\n",
    "                new_row = (problem_link, problem_name, company_name, num_occur,)\n",
    "                problems_companies_info.append(new_row)\n",
    "                print(new_row)\n",
    "        except Exception as e:\n",
    "            # log the error\n",
    "            print(e)\n",
    "    return pd.DataFrame(problems_companies_info, \n",
    "                        columns = ['problem_link', 'problem_name', 'company_name', 'num_occur'])"
   ]
  },
  {
   "cell_type": "code",
   "execution_count": 24,
   "id": "c0665651",
   "metadata": {},
   "outputs": [
    {
     "name": "stdout",
     "output_type": "stream",
     "text": [
      "handling https://leetcode.com/problems/minimum-consecutive-cards-to-pick-up/\n",
      "['Google', '|']\n",
      "list index out of range\n"
     ]
    }
   ],
   "source": [
    "# go through questions in the leetcode question list\n",
    "leetcode_problems = pd.read_csv('../data/leetcode_problems.csv')[1:2]\n",
    "problems_companies_info = get_problems_companies_info(leetcode_problems, debug=True)\n",
    "problems_companies_info.to_csv('../data/leetcode_problems_and_company.csv', index=False)"
   ]
  },
  {
   "cell_type": "code",
   "execution_count": 21,
   "id": "09e14aff",
   "metadata": {},
   "outputs": [
    {
     "name": "stdout",
     "output_type": "stream",
     "text": [
      "successfully logged in!\n"
     ]
    }
   ],
   "source": [
    "login('XiaoChuan_Sun', 'QW12!@qw')"
   ]
  },
  {
   "cell_type": "code",
   "execution_count": null,
   "id": "f2a7f771",
   "metadata": {},
   "outputs": [],
   "source": []
  }
 ],
 "metadata": {
  "kernelspec": {
   "display_name": "Python [conda env:cs320]",
   "language": "python",
   "name": "conda-env-cs320-py"
  },
  "language_info": {
   "codemirror_mode": {
    "name": "ipython",
    "version": 3
   },
   "file_extension": ".py",
   "mimetype": "text/x-python",
   "name": "python",
   "nbconvert_exporter": "python",
   "pygments_lexer": "ipython3",
   "version": "3.9.7"
  }
 },
 "nbformat": 4,
 "nbformat_minor": 5
}
