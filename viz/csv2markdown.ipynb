{
 "cells": [
  {
   "cell_type": "code",
   "execution_count": 18,
   "id": "d0ca1385",
   "metadata": {},
   "outputs": [],
   "source": [
    "import pandas as pd\n",
    "import os\n",
    "import os.path as osp"
   ]
  },
  {
   "cell_type": "code",
   "execution_count": 32,
   "id": "bd8ef413",
   "metadata": {},
   "outputs": [],
   "source": [
    "markdown = ''\n",
    "\n",
    "companies_dir = '../companies'\n",
    "for fname in os.listdir(companies_dir):\n",
    "    fpath = osp.join(companies_dir, fname)\n",
    "    company_name = fname.split('.')[0]\n",
    "    df = pd.read_csv(fpath)\n",
    "    # sort by occurances\n",
    "    df = df.sort_values(by ='num_occurances', ascending=False)\n",
    "    if len(df.index) > 5:\n",
    "        markdown += f'\\n\\n## {company_name}\\n'\n",
    "        markdown += df.to_markdown(index=False)\n",
    "\n",
    "with open('README.md', 'w') as f:\n",
    "    f.write(markdown)"
   ]
  },
  {
   "cell_type": "code",
   "execution_count": null,
   "id": "064cf602",
   "metadata": {},
   "outputs": [],
   "source": []
  }
 ],
 "metadata": {
  "kernelspec": {
   "display_name": "Python [conda env:cs320]",
   "language": "python",
   "name": "conda-env-cs320-py"
  },
  "language_info": {
   "codemirror_mode": {
    "name": "ipython",
    "version": 3
   },
   "file_extension": ".py",
   "mimetype": "text/x-python",
   "name": "python",
   "nbconvert_exporter": "python",
   "pygments_lexer": "ipython3",
   "version": "3.9.7"
  }
 },
 "nbformat": 4,
 "nbformat_minor": 5
}
