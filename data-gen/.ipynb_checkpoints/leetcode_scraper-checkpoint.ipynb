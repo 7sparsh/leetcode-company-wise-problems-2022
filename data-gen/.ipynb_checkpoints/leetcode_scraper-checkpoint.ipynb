{
 "cells": [
  {
   "cell_type": "code",
   "execution_count": 3,
   "id": "4976ce0e",
   "metadata": {},
   "outputs": [],
   "source": [
    "from selenium import webdriver\n",
    "from selenium.webdriver.chrome.options import Options\n",
    "from tqdm import tqdm\n",
    "import time\n",
    "import pandas as pd"
   ]
  },
  {
   "cell_type": "code",
   "execution_count": 4,
   "id": "c209a0ee",
   "metadata": {},
   "outputs": [],
   "source": [
    "options = Options()\n",
    "options.headless = True\n",
    "driver = webdriver.Chrome(options=options)\n",
    "driver.set_window_size(1920, 1080)\n",
    "driver.maximize_window()"
   ]
  },
  {
   "cell_type": "code",
   "execution_count": 11,
   "id": "3c286ed3",
   "metadata": {},
   "outputs": [],
   "source": [
    "def click(button, timeout=3):\n",
    "        prev_src = driver.page_source\n",
    "        elapsed = 0\n",
    "        unit_time = timeout / 10\n",
    "        button.click()\n",
    "        while prev_src == driver.page_source and elapsed <= timeout:\n",
    "            time.sleep(unit_time)\n",
    "            timeout -= unit_time\n",
    "            elapsed += unit_time\n",
    "            \n",
    "# login to leetcode\n",
    "def login(username, password):\n",
    "    login_url = 'https://leetcode.com/accounts/login/'\n",
    "    driver.get(login_url)\n",
    "    time.sleep(2)\n",
    "    username_field = driver.find_element_by_xpath('//input[@id=\"id_login\"]')\n",
    "    password_field = driver.find_element_by_xpath('//input[@id=\"id_password\"]')\n",
    "    signin_button = driver.find_element_by_xpath('//button[@id=\"signin_btn\"]')\n",
    "    username_field.send_keys(username)\n",
    "    password_field.send_keys(password)\n",
    "    click(signin_button)\n",
    "    print('successfully logged in!') \n",
    "\n",
    "# \n",
    "def "
   ]
  },
  {
   "cell_type": "code",
   "execution_count": 12,
   "id": "13b28367",
   "metadata": {},
   "outputs": [
    {
     "name": "stdout",
     "output_type": "stream",
     "text": [
      "successfully logged in!\n"
     ]
    }
   ],
   "source": []
  },
  {
   "cell_type": "code",
   "execution_count": null,
   "id": "ee50942a",
   "metadata": {},
   "outputs": [],
   "source": []
  }
 ],
 "metadata": {
  "kernelspec": {
   "display_name": "Python [conda env:cs320]",
   "language": "python",
   "name": "conda-env-cs320-py"
  },
  "language_info": {
   "codemirror_mode": {
    "name": "ipython",
    "version": 3
   },
   "file_extension": ".py",
   "mimetype": "text/x-python",
   "name": "python",
   "nbconvert_exporter": "python",
   "pygments_lexer": "ipython3",
   "version": "3.9.7"
  }
 },
 "nbformat": 4,
 "nbformat_minor": 5
}
